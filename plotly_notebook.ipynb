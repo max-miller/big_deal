{
 "cells": [
  {
   "cell_type": "code",
   "execution_count": 1,
   "metadata": {},
   "outputs": [],
   "source": [
    "import plotly.offline as pyo\n",
    "import plotly.graph_objs as go\n",
    "import pandas as pd"
   ]
  },
  {
   "cell_type": "markdown",
   "metadata": {},
   "source": [
    "A notebook to work on data prep and plotly visualizations so that I have things set up in a way that can be easily plugged in to the final dashboard. I'll be using plotly offline, so I'll simply insert static images screencapped from the html objects.\n",
    "\n",
    "First a bit of data prep, using the city master csvs I prepared in the first big_deal notebook."
   ]
  },
  {
   "cell_type": "code",
   "execution_count": 10,
   "metadata": {},
   "outputs": [
    {
     "data": {
      "text/html": [
       "<div>\n",
       "<style scoped>\n",
       "    .dataframe tbody tr th:only-of-type {\n",
       "        vertical-align: middle;\n",
       "    }\n",
       "\n",
       "    .dataframe tbody tr th {\n",
       "        vertical-align: top;\n",
       "    }\n",
       "\n",
       "    .dataframe thead th {\n",
       "        text-align: right;\n",
       "    }\n",
       "</style>\n",
       "<table border=\"1\" class=\"dataframe\">\n",
       "  <thead>\n",
       "    <tr style=\"text-align: right;\">\n",
       "      <th></th>\n",
       "      <th>years</th>\n",
       "      <th>TMAX</th>\n",
       "      <th>TMIN</th>\n",
       "      <th>t90</th>\n",
       "      <th>t95</th>\n",
       "      <th>t100</th>\n",
       "    </tr>\n",
       "  </thead>\n",
       "  <tbody>\n",
       "    <tr>\n",
       "      <th>0</th>\n",
       "      <td>1947</td>\n",
       "      <td>46.821581</td>\n",
       "      <td>30.813200</td>\n",
       "      <td>0</td>\n",
       "      <td>0</td>\n",
       "      <td>0</td>\n",
       "    </tr>\n",
       "    <tr>\n",
       "      <th>1</th>\n",
       "      <td>1948</td>\n",
       "      <td>61.402767</td>\n",
       "      <td>42.641671</td>\n",
       "      <td>9</td>\n",
       "      <td>4</td>\n",
       "      <td>0</td>\n",
       "    </tr>\n",
       "    <tr>\n",
       "      <th>2</th>\n",
       "      <td>1949</td>\n",
       "      <td>64.488553</td>\n",
       "      <td>45.420937</td>\n",
       "      <td>20</td>\n",
       "      <td>8</td>\n",
       "      <td>0</td>\n",
       "    </tr>\n",
       "    <tr>\n",
       "      <th>3</th>\n",
       "      <td>1950</td>\n",
       "      <td>60.902360</td>\n",
       "      <td>43.011863</td>\n",
       "      <td>5</td>\n",
       "      <td>0</td>\n",
       "      <td>0</td>\n",
       "    </tr>\n",
       "    <tr>\n",
       "      <th>4</th>\n",
       "      <td>1951</td>\n",
       "      <td>62.462723</td>\n",
       "      <td>44.219303</td>\n",
       "      <td>1</td>\n",
       "      <td>0</td>\n",
       "      <td>0</td>\n",
       "    </tr>\n",
       "  </tbody>\n",
       "</table>\n",
       "</div>"
      ],
      "text/plain": [
       "   years       TMAX       TMIN  t90  t95  t100\n",
       "0   1947  46.821581  30.813200    0    0     0\n",
       "1   1948  61.402767  42.641671    9    4     0\n",
       "2   1949  64.488553  45.420937   20    8     0\n",
       "3   1950  60.902360  43.011863    5    0     0\n",
       "4   1951  62.462723  44.219303    1    0     0"
      ]
     },
     "execution_count": 10,
     "metadata": {},
     "output_type": "execute_result"
    }
   ],
   "source": [
    "df = pd.read_csv('New_York_NY_master.csv')\n",
    "df.head()"
   ]
  },
  {
   "cell_type": "markdown",
   "metadata": {},
   "source": [
    "A couple of quick prep steps - resetting the index, cutting off the first year (which is actually only a partial year's worth of data) and adding in trailing average columns, something I really should have done in my .py file that called the NOAA API and formatted these dataframes."
   ]
  },
  {
   "cell_type": "code",
   "execution_count": 11,
   "metadata": {},
   "outputs": [
    {
     "data": {
      "text/html": [
       "<div>\n",
       "<style scoped>\n",
       "    .dataframe tbody tr th:only-of-type {\n",
       "        vertical-align: middle;\n",
       "    }\n",
       "\n",
       "    .dataframe tbody tr th {\n",
       "        vertical-align: top;\n",
       "    }\n",
       "\n",
       "    .dataframe thead th {\n",
       "        text-align: right;\n",
       "    }\n",
       "</style>\n",
       "<table border=\"1\" class=\"dataframe\">\n",
       "  <thead>\n",
       "    <tr style=\"text-align: right;\">\n",
       "      <th></th>\n",
       "      <th>TMAX</th>\n",
       "      <th>TMIN</th>\n",
       "      <th>t90</th>\n",
       "      <th>t95</th>\n",
       "      <th>t100</th>\n",
       "      <th>TMAX_rolling</th>\n",
       "      <th>TMIN_rolling</th>\n",
       "      <th>t90_rolling</th>\n",
       "    </tr>\n",
       "    <tr>\n",
       "      <th>years</th>\n",
       "      <th></th>\n",
       "      <th></th>\n",
       "      <th></th>\n",
       "      <th></th>\n",
       "      <th></th>\n",
       "      <th></th>\n",
       "      <th></th>\n",
       "      <th></th>\n",
       "    </tr>\n",
       "  </thead>\n",
       "  <tbody>\n",
       "    <tr>\n",
       "      <th>1948</th>\n",
       "      <td>61.402767</td>\n",
       "      <td>42.641671</td>\n",
       "      <td>9</td>\n",
       "      <td>4</td>\n",
       "      <td>0</td>\n",
       "      <td>61.402767</td>\n",
       "      <td>42.641671</td>\n",
       "      <td>9.000000</td>\n",
       "    </tr>\n",
       "    <tr>\n",
       "      <th>1949</th>\n",
       "      <td>64.488553</td>\n",
       "      <td>45.420937</td>\n",
       "      <td>20</td>\n",
       "      <td>8</td>\n",
       "      <td>0</td>\n",
       "      <td>62.945660</td>\n",
       "      <td>44.031304</td>\n",
       "      <td>14.500000</td>\n",
       "    </tr>\n",
       "    <tr>\n",
       "      <th>1950</th>\n",
       "      <td>60.902360</td>\n",
       "      <td>43.011863</td>\n",
       "      <td>5</td>\n",
       "      <td>0</td>\n",
       "      <td>0</td>\n",
       "      <td>62.264560</td>\n",
       "      <td>43.691490</td>\n",
       "      <td>11.333333</td>\n",
       "    </tr>\n",
       "    <tr>\n",
       "      <th>1951</th>\n",
       "      <td>62.462723</td>\n",
       "      <td>44.219303</td>\n",
       "      <td>1</td>\n",
       "      <td>0</td>\n",
       "      <td>0</td>\n",
       "      <td>62.314101</td>\n",
       "      <td>43.823443</td>\n",
       "      <td>8.750000</td>\n",
       "    </tr>\n",
       "    <tr>\n",
       "      <th>1952</th>\n",
       "      <td>62.634314</td>\n",
       "      <td>44.782412</td>\n",
       "      <td>12</td>\n",
       "      <td>1</td>\n",
       "      <td>0</td>\n",
       "      <td>62.378143</td>\n",
       "      <td>44.015237</td>\n",
       "      <td>9.400000</td>\n",
       "    </tr>\n",
       "  </tbody>\n",
       "</table>\n",
       "</div>"
      ],
      "text/plain": [
       "            TMAX       TMIN  t90  t95  t100  TMAX_rolling  TMIN_rolling  \\\n",
       "years                                                                     \n",
       "1948   61.402767  42.641671    9    4     0     61.402767     42.641671   \n",
       "1949   64.488553  45.420937   20    8     0     62.945660     44.031304   \n",
       "1950   60.902360  43.011863    5    0     0     62.264560     43.691490   \n",
       "1951   62.462723  44.219303    1    0     0     62.314101     43.823443   \n",
       "1952   62.634314  44.782412   12    1     0     62.378143     44.015237   \n",
       "\n",
       "       t90_rolling  \n",
       "years               \n",
       "1948      9.000000  \n",
       "1949     14.500000  \n",
       "1950     11.333333  \n",
       "1951      8.750000  \n",
       "1952      9.400000  "
      ]
     },
     "execution_count": 11,
     "metadata": {},
     "output_type": "execute_result"
    }
   ],
   "source": [
    "df.drop(0,inplace=True)\n",
    "for metric in ['TMAX','TMIN','t90']:\n",
    "    df[f'{metric}_rolling'] = [df[metric][0:n+1].mean() if n<10 else df[metric][n-10:n+1].mean() for\n",
    "                              n in range(0,len(df))]\n",
    "    \n",
    "df.set_index('years',inplace=True)\n",
    "df.head()"
   ]
  },
  {
   "cell_type": "markdown",
   "metadata": {},
   "source": [
    "As of my beginning this notebook, I'm still a little unsure what I want the final visualizations to look like. Part of the goal here is exploratory and simply continuing to get a better feel for the plotly layout.\n",
    "\n",
    "Part of what makes plotly so excellent is that the default styling, without a whole lot of extra work, already looks pretty good."
   ]
  },
  {
   "cell_type": "code",
   "execution_count": 14,
   "metadata": {},
   "outputs": [
    {
     "data": {
      "text/plain": [
       "'temp-plot.html'"
      ]
     },
     "execution_count": 14,
     "metadata": {},
     "output_type": "execute_result"
    }
   ],
   "source": [
    "metric = 'TMAX'\n",
    "data = [go.Scatter(x=df.index, y=df[column], mode='lines') for column in [metric,f'{metric}_rolling']]\n",
    "layout = go.Layout(title = f'{metric} and 10 year rolling average')\n",
    "fig = go.Figure(data = data, layout=layout)\n",
    "pyo.plot(fig)"
   ]
  },
  {
   "attachments": {},
   "cell_type": "markdown",
   "metadata": {},
   "source": [
    "Produces:\n",
    "![basic_no_formatting.png](https://github.com/max-miller/big_deal/blob/master/visualizations/basic_no_formatting.png?raw=true)\n",
    "\n",
    "This does remind that at the very least I need to give the traces their appropriate names"
   ]
  },
  {
   "cell_type": "code",
   "execution_count": 15,
   "metadata": {},
   "outputs": [
    {
     "data": {
      "text/plain": [
       "'temp-plot.html'"
      ]
     },
     "execution_count": 15,
     "metadata": {},
     "output_type": "execute_result"
    }
   ],
   "source": [
    "metric = 'TMAX'\n",
    "data = [go.Scatter(x=df.index, y=df[column], mode='lines', name=column) for column in [metric,f'{metric}_rolling']]\n",
    "layout = go.Layout(title = f'{metric} and 10 year rolling average')\n",
    "fig = go.Figure(data = data, layout=layout)\n",
    "pyo.plot(fig)"
   ]
  },
  {
   "attachments": {},
   "cell_type": "markdown",
   "metadata": {},
   "source": [
    "![with_names.png](https://github.com/max-miller/big_deal/blob/master/visualizations/with_names.png?raw=true)"
   ]
  },
  {
   "cell_type": "code",
   "execution_count": 16,
   "metadata": {},
   "outputs": [
    {
     "data": {
      "text/plain": [
       "'temp-plot.html'"
      ]
     },
     "execution_count": 16,
     "metadata": {},
     "output_type": "execute_result"
    }
   ],
   "source": [
    "metric = 'TMIN'\n",
    "data = [go.Scatter(x=df.index, y=df[column], mode='lines', name=column) for column in [metric,f'{metric}_rolling']]\n",
    "layout = go.Layout(title = f'{metric} and 10 year rolling average')\n",
    "fig = go.Figure(data = data, layout=layout)\n",
    "pyo.plot(fig)"
   ]
  },
  {
   "cell_type": "code",
   "execution_count": null,
   "metadata": {},
   "outputs": [],
   "source": []
  }
 ],
 "metadata": {
  "kernelspec": {
   "display_name": "Python 3",
   "language": "python",
   "name": "python3"
  },
  "language_info": {
   "codemirror_mode": {
    "name": "ipython",
    "version": 3
   },
   "file_extension": ".py",
   "mimetype": "text/x-python",
   "name": "python",
   "nbconvert_exporter": "python",
   "pygments_lexer": "ipython3",
   "version": "3.7.1"
  }
 },
 "nbformat": 4,
 "nbformat_minor": 2
}

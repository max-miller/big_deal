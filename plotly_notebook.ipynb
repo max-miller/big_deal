{
 "cells": [
  {
   "cell_type": "code",
   "execution_count": 1,
   "metadata": {},
   "outputs": [],
   "source": [
    "import plotly.offline as pyo\n",
    "import plotly.graph_objs as go\n",
    "import pandas as pd"
   ]
  },
  {
   "cell_type": "markdown",
   "metadata": {},
   "source": [
    "A notebook to work on data prep and plotly visualizations so that I have things set up in a way that can be easily plugged in to the final dashboard. I'll be using plotly offline, so I'll simply insert static images screencapped from the html objects.\n",
    "\n",
    "First a bit of data prep, using the city master csvs I prepared in the first big_deal notebook."
   ]
  },
  {
   "cell_type": "code",
   "execution_count": 2,
   "metadata": {},
   "outputs": [
    {
     "data": {
      "text/html": [
       "<div>\n",
       "<style scoped>\n",
       "    .dataframe tbody tr th:only-of-type {\n",
       "        vertical-align: middle;\n",
       "    }\n",
       "\n",
       "    .dataframe tbody tr th {\n",
       "        vertical-align: top;\n",
       "    }\n",
       "\n",
       "    .dataframe thead th {\n",
       "        text-align: right;\n",
       "    }\n",
       "</style>\n",
       "<table border=\"1\" class=\"dataframe\">\n",
       "  <thead>\n",
       "    <tr style=\"text-align: right;\">\n",
       "      <th></th>\n",
       "      <th>years</th>\n",
       "      <th>TMAX</th>\n",
       "      <th>TMIN</th>\n",
       "      <th>t90</th>\n",
       "      <th>t95</th>\n",
       "      <th>t100</th>\n",
       "    </tr>\n",
       "  </thead>\n",
       "  <tbody>\n",
       "    <tr>\n",
       "      <th>0</th>\n",
       "      <td>1947</td>\n",
       "      <td>46.821581</td>\n",
       "      <td>30.813200</td>\n",
       "      <td>0</td>\n",
       "      <td>0</td>\n",
       "      <td>0</td>\n",
       "    </tr>\n",
       "    <tr>\n",
       "      <th>1</th>\n",
       "      <td>1948</td>\n",
       "      <td>61.402767</td>\n",
       "      <td>42.641671</td>\n",
       "      <td>9</td>\n",
       "      <td>4</td>\n",
       "      <td>0</td>\n",
       "    </tr>\n",
       "    <tr>\n",
       "      <th>2</th>\n",
       "      <td>1949</td>\n",
       "      <td>64.488553</td>\n",
       "      <td>45.420937</td>\n",
       "      <td>20</td>\n",
       "      <td>8</td>\n",
       "      <td>0</td>\n",
       "    </tr>\n",
       "    <tr>\n",
       "      <th>3</th>\n",
       "      <td>1950</td>\n",
       "      <td>60.902360</td>\n",
       "      <td>43.011863</td>\n",
       "      <td>5</td>\n",
       "      <td>0</td>\n",
       "      <td>0</td>\n",
       "    </tr>\n",
       "    <tr>\n",
       "      <th>4</th>\n",
       "      <td>1951</td>\n",
       "      <td>62.462723</td>\n",
       "      <td>44.219303</td>\n",
       "      <td>1</td>\n",
       "      <td>0</td>\n",
       "      <td>0</td>\n",
       "    </tr>\n",
       "  </tbody>\n",
       "</table>\n",
       "</div>"
      ],
      "text/plain": [
       "   years       TMAX       TMIN  t90  t95  t100\n",
       "0   1947  46.821581  30.813200    0    0     0\n",
       "1   1948  61.402767  42.641671    9    4     0\n",
       "2   1949  64.488553  45.420937   20    8     0\n",
       "3   1950  60.902360  43.011863    5    0     0\n",
       "4   1951  62.462723  44.219303    1    0     0"
      ]
     },
     "execution_count": 2,
     "metadata": {},
     "output_type": "execute_result"
    }
   ],
   "source": [
    "df = pd.read_csv('New_York_NY_master.csv')\n",
    "df.head()"
   ]
  },
  {
   "cell_type": "markdown",
   "metadata": {},
   "source": [
    "A couple of quick prep steps - resetting the index, cutting off the first year (which is actually only a partial year's worth of data) and adding in trailing average columns, something I really should have done in my .py file that called the NOAA API and formatted these dataframes."
   ]
  },
  {
   "cell_type": "code",
   "execution_count": 3,
   "metadata": {},
   "outputs": [
    {
     "data": {
      "text/html": [
       "<div>\n",
       "<style scoped>\n",
       "    .dataframe tbody tr th:only-of-type {\n",
       "        vertical-align: middle;\n",
       "    }\n",
       "\n",
       "    .dataframe tbody tr th {\n",
       "        vertical-align: top;\n",
       "    }\n",
       "\n",
       "    .dataframe thead th {\n",
       "        text-align: right;\n",
       "    }\n",
       "</style>\n",
       "<table border=\"1\" class=\"dataframe\">\n",
       "  <thead>\n",
       "    <tr style=\"text-align: right;\">\n",
       "      <th></th>\n",
       "      <th>TMAX</th>\n",
       "      <th>TMIN</th>\n",
       "      <th>t90</th>\n",
       "      <th>t95</th>\n",
       "      <th>t100</th>\n",
       "      <th>TMAX_rolling</th>\n",
       "      <th>TMIN_rolling</th>\n",
       "      <th>t90_rolling</th>\n",
       "    </tr>\n",
       "    <tr>\n",
       "      <th>years</th>\n",
       "      <th></th>\n",
       "      <th></th>\n",
       "      <th></th>\n",
       "      <th></th>\n",
       "      <th></th>\n",
       "      <th></th>\n",
       "      <th></th>\n",
       "      <th></th>\n",
       "    </tr>\n",
       "  </thead>\n",
       "  <tbody>\n",
       "    <tr>\n",
       "      <th>1948-01-01</th>\n",
       "      <td>61.402767</td>\n",
       "      <td>42.641671</td>\n",
       "      <td>9</td>\n",
       "      <td>4</td>\n",
       "      <td>0</td>\n",
       "      <td>61.402767</td>\n",
       "      <td>42.641671</td>\n",
       "      <td>9.000000</td>\n",
       "    </tr>\n",
       "    <tr>\n",
       "      <th>1949-01-01</th>\n",
       "      <td>64.488553</td>\n",
       "      <td>45.420937</td>\n",
       "      <td>20</td>\n",
       "      <td>8</td>\n",
       "      <td>0</td>\n",
       "      <td>62.945660</td>\n",
       "      <td>44.031304</td>\n",
       "      <td>14.500000</td>\n",
       "    </tr>\n",
       "    <tr>\n",
       "      <th>1950-01-01</th>\n",
       "      <td>60.902360</td>\n",
       "      <td>43.011863</td>\n",
       "      <td>5</td>\n",
       "      <td>0</td>\n",
       "      <td>0</td>\n",
       "      <td>62.264560</td>\n",
       "      <td>43.691490</td>\n",
       "      <td>11.333333</td>\n",
       "    </tr>\n",
       "    <tr>\n",
       "      <th>1951-01-01</th>\n",
       "      <td>62.462723</td>\n",
       "      <td>44.219303</td>\n",
       "      <td>1</td>\n",
       "      <td>0</td>\n",
       "      <td>0</td>\n",
       "      <td>62.314101</td>\n",
       "      <td>43.823443</td>\n",
       "      <td>8.750000</td>\n",
       "    </tr>\n",
       "    <tr>\n",
       "      <th>1952-01-01</th>\n",
       "      <td>62.634314</td>\n",
       "      <td>44.782412</td>\n",
       "      <td>12</td>\n",
       "      <td>1</td>\n",
       "      <td>0</td>\n",
       "      <td>62.378143</td>\n",
       "      <td>44.015237</td>\n",
       "      <td>9.400000</td>\n",
       "    </tr>\n",
       "  </tbody>\n",
       "</table>\n",
       "</div>"
      ],
      "text/plain": [
       "                 TMAX       TMIN  t90  t95  t100  TMAX_rolling  TMIN_rolling  \\\n",
       "years                                                                          \n",
       "1948-01-01  61.402767  42.641671    9    4     0     61.402767     42.641671   \n",
       "1949-01-01  64.488553  45.420937   20    8     0     62.945660     44.031304   \n",
       "1950-01-01  60.902360  43.011863    5    0     0     62.264560     43.691490   \n",
       "1951-01-01  62.462723  44.219303    1    0     0     62.314101     43.823443   \n",
       "1952-01-01  62.634314  44.782412   12    1     0     62.378143     44.015237   \n",
       "\n",
       "            t90_rolling  \n",
       "years                    \n",
       "1948-01-01     9.000000  \n",
       "1949-01-01    14.500000  \n",
       "1950-01-01    11.333333  \n",
       "1951-01-01     8.750000  \n",
       "1952-01-01     9.400000  "
      ]
     },
     "execution_count": 3,
     "metadata": {},
     "output_type": "execute_result"
    }
   ],
   "source": [
    "df.drop(0,inplace=True)\n",
    "for metric in ['TMAX','TMIN','t90']:\n",
    "    df[f'{metric}_rolling'] = [df[metric][0:n+1].mean() if n<10 else df[metric][n-10:n+1].mean() for\n",
    "                              n in range(0,len(df))]\n",
    "#Also need to datetime-ify the dates for later\n",
    "df['years'] = pd.to_datetime(df['years'],format='%Y')    \n",
    "df.set_index('years',inplace=True)\n",
    "df.head()"
   ]
  },
  {
   "cell_type": "markdown",
   "metadata": {},
   "source": [
    "As of my beginning this notebook, I'm still a little unsure what I want the final visualizations to look like. Part of the goal here is exploratory and simply continuing to get a better feel for the plotly layout.\n",
    "\n",
    "Part of what makes plotly so excellent is that the default styling, without a whole lot of extra work, already looks pretty good."
   ]
  },
  {
   "cell_type": "code",
   "execution_count": 4,
   "metadata": {},
   "outputs": [
    {
     "data": {
      "text/plain": [
       "'temp-plot.html'"
      ]
     },
     "execution_count": 4,
     "metadata": {},
     "output_type": "execute_result"
    }
   ],
   "source": [
    "metric = 'TMAX'\n",
    "data = [go.Scatter(x=df.index, y=df[column], mode='lines') for column in [metric,f'{metric}_rolling']]\n",
    "layout = go.Layout(title = f'{metric} and 10 year rolling average')\n",
    "fig = go.Figure(data = data, layout=layout)\n",
    "pyo.plot(fig)"
   ]
  },
  {
   "attachments": {},
   "cell_type": "markdown",
   "metadata": {},
   "source": [
    "Produces:\n",
    "![basic_no_formatting.png](https://github.com/max-miller/big_deal/blob/master/visualizations/basic_no_formatting.png?raw=true)\n",
    "\n",
    "This does remind that at the very least I need to give the traces their appropriate names"
   ]
  },
  {
   "cell_type": "code",
   "execution_count": 5,
   "metadata": {},
   "outputs": [
    {
     "data": {
      "text/plain": [
       "'temp-plot.html'"
      ]
     },
     "execution_count": 5,
     "metadata": {},
     "output_type": "execute_result"
    }
   ],
   "source": [
    "metric = 'TMAX'\n",
    "data = [go.Scatter(x=df.index, y=df[column], mode='lines', name=column) for column in [metric,f'{metric}_rolling']]\n",
    "layout = go.Layout(title = f'{metric} and 10 year rolling average')\n",
    "fig = go.Figure(data = data, layout=layout)\n",
    "pyo.plot(fig)"
   ]
  },
  {
   "attachments": {},
   "cell_type": "markdown",
   "metadata": {},
   "source": [
    "![with_names.png](https://github.com/max-miller/big_deal/blob/master/visualizations/with_names.png?raw=true)"
   ]
  },
  {
   "cell_type": "code",
   "execution_count": 6,
   "metadata": {},
   "outputs": [
    {
     "data": {
      "text/plain": [
       "'temp-plot.html'"
      ]
     },
     "execution_count": 6,
     "metadata": {},
     "output_type": "execute_result"
    }
   ],
   "source": [
    "metric = 'TMIN'\n",
    "data = [go.Scatter(x=df.index, y=df[column], mode='lines', name=column) for column in [metric,f'{metric}_rolling']]\n",
    "layout = go.Layout(title = f'{metric} and 10 year rolling average')\n",
    "fig = go.Figure(data = data, layout=layout)\n",
    "pyo.plot(fig)"
   ]
  },
  {
   "cell_type": "markdown",
   "metadata": {},
   "source": [
    "The most important thing for this project, interactivity wise, is the ability to select metric or city. For that I'm going to try using Dash.\n",
    "\n",
    "I'm a little new to this. But the first simple thing is to set up Dash to take in a metric (TMAX, TMIN, t90) and return the appropriate graph. "
   ]
  },
  {
   "cell_type": "code",
   "execution_count": 7,
   "metadata": {},
   "outputs": [],
   "source": [
    "import dash\n",
    "import dash_core_components as dcc\n",
    "import dash_html_components as html\n",
    "from dash.dependencies import Input, Output"
   ]
  },
  {
   "cell_type": "code",
   "execution_count": 8,
   "metadata": {
    "scrolled": true
   },
   "outputs": [
    {
     "name": "stdout",
     "output_type": "stream",
     "text": [
      " * Serving Flask app \"__main__\" (lazy loading)\n",
      " * Environment: production\n",
      "   WARNING: Do not use the development server in a production environment.\n",
      "   Use a production WSGI server instead.\n",
      " * Debug mode: off\n"
     ]
    },
    {
     "name": "stderr",
     "output_type": "stream",
     "text": [
      " * Running on http://127.0.0.1:8050/ (Press CTRL+C to quit)\n"
     ]
    }
   ],
   "source": [
    "app= dash.Dash() #create Dash app\n",
    "#layout for now is simple, just the graph and the dropdown with metrics.\n",
    "app.layout = html.Div([\n",
    "                dcc.Graph(id='graph'),\n",
    "                dcc.Dropdown(id='metric-dropdown',\n",
    "                            options=[{'label':'Average Maximum Temp','value':'TMAX'},\n",
    "                                    {'label':'Average Minimum Temp','value':'TMIN'},\n",
    "                                    {'label':'Number of days above 90','value':'t90'}])])\n",
    "\n",
    "#callback is what actually links the input from the dropdown to some other component, here I specify\n",
    "#that the output will be the component with the id 'graph'\n",
    "@app.callback(Output('graph','figure'),\n",
    "             [Input('metric-dropdown','value')])\n",
    "\n",
    "#This function creates the appropriate plotly style plot from the inputted metric.\n",
    "def update_figure(metric):\n",
    "    data = [go.Scatter(x=df.index, y=df[column], mode='lines', name=column) \n",
    "            for column in [metric,f'{metric}_rolling']]\n",
    "    layout = go.Layout(title = f'{metric} and 10 year rolling average')\n",
    "    return {'data':data,'layout':layout}\n",
    "\n",
    "\n",
    "app.run_server()"
   ]
  },
  {
   "cell_type": "markdown",
   "metadata": {},
   "source": [
    "Having never made interactive visualizations like this before, I'm very happy with how easy it was to create these, and it's clear to me how to extend this to encompass a bunch of other things I'll want to do.\n",
    "\n",
    "![TMAX](https://github.com/max-miller/big_deal/blob/master/visualizations/tmax_dash.png?raw=true)\n",
    "\n",
    "![TMIN](https://github.com/max-miller/big_deal/blob/master/visualizations/tmin_dash.png?raw=true)\n",
    "\n",
    "One quirk I need to figure out is how to get it to default to a value, since currently, when I start it up, there is no default graph populated as it waits for the user to input a metric:\n",
    "\n",
    "![TMIN](https://github.com/max-miller/big_deal/blob/master/visualizations/empty_graph.png?raw=true)\n"
   ]
  },
  {
   "cell_type": "markdown",
   "metadata": {},
   "source": [
    "Looking ahead, there are a couple of content things to work on and then some styling things. I'm going to save the styling for last, since that is what I'm least familiar with. For now I'm just going to make sure that everything I want is on the page, then I'll go back and make sure it looks pretty.\n",
    "\n",
    "1. Unify all the labels with a master dictionary\n",
    "2. Create a function to perform a two sample ttest \n",
    "3. Dynamicall incorporate results of ttest onto dashboard\n",
    "\n",
    "Ttest function will perform the statisitical test and return the appropriate text describing the results:"
   ]
  },
  {
   "cell_type": "code",
   "execution_count": 9,
   "metadata": {},
   "outputs": [],
   "source": [
    "label_dict = {'TMAX':'Average Daily Maximum Temperature','TMIN':'Average Daily Minimum Temperature',\n",
    "             't90':'Number of Days Above 90 Degrees','TMAX_rolling':'Rolling average',\n",
    "              'TMIN_rolling':'Rolling average','t90_rolling':'Rolling average'}\n",
    "\n",
    "from scipy import stats\n",
    "\n",
    "def ttest(df, metric):\n",
    "    diff = round(df['2009':'2018'][metric].mean()-df['1950':'2000'][metric].mean(),2)\n",
    "    pvalue = stats.ttest_ind(df['2009':'2018'][metric],df['1950':'2000'][metric],equal_var=False)[1]\n",
    "    if pvalue == 0:\n",
    "        if diff >0:\n",
    "            return f'''The {label_dict[metric].lower()} was {diff} higher in the last ten years compared to last half of the 20th century. The odds of this happening by chance are vanishingly small'''\n",
    "        return f'''The {label_dict[metric].lower()} was {-diff} lower in the last ten years compared to last half of the 20th century. The odds of this happening by chance are vanishingly small'''\n",
    "    elif pvalue < .2:\n",
    "        odds = int(round(1/pvalue))\n",
    "        if diff >0:\n",
    "            return f'''The {label_dict[metric].lower()} was {diff} higher in the last ten years compared to last half of the 20th century. The odds of this happening by chance are about 1 in {odds}'''\n",
    "        \n",
    "        return f'''The {label_dict[metric].lower()} was {-diff} lower in the last ten years compared to last half of the 20th century. The odds of this happening by chance are about 1 in {odds}'''\n",
    "    elif diff >0:\n",
    "        return f'''The {label_dict[metric].lower()} was {diff} higher in the last ten years compared to last half of the 20th century. This difference may well be due to chance'''\n",
    "    return f'''The {label_dict[metric].lower()} was {-diff} lower in the last ten years compared to last half of the 20th century. This difference may well be due to chance'''"
   ]
  },
  {
   "cell_type": "code",
   "execution_count": 10,
   "metadata": {
    "scrolled": true
   },
   "outputs": [
    {
     "data": {
      "text/plain": [
       "'The average daily maximum temperature was 1.25 higher in the last ten years compared to last half of the 20th century. The odds of this happening by chance are about 1 in 66'"
      ]
     },
     "execution_count": 10,
     "metadata": {},
     "output_type": "execute_result"
    }
   ],
   "source": [
    "ttest(df,'TMAX')"
   ]
  },
  {
   "cell_type": "markdown",
   "metadata": {},
   "source": [
    "First I just brought the two callbacks in simply to test it out. Only styling I did was to put the dropdown menu at the top. It was also a simple to fix the default value for the dropdown list:"
   ]
  },
  {
   "cell_type": "code",
   "execution_count": 11,
   "metadata": {
    "collapsed": true
   },
   "outputs": [
    {
     "name": "stdout",
     "output_type": "stream",
     "text": [
      " * Serving Flask app \"__main__\" (lazy loading)\n",
      " * Environment: production\n",
      "   WARNING: Do not use the development server in a production environment.\n",
      "   Use a production WSGI server instead.\n",
      " * Debug mode: off\n"
     ]
    },
    {
     "name": "stderr",
     "output_type": "stream",
     "text": [
      " * Running on http://127.0.0.1:8050/ (Press CTRL+C to quit)\n",
      "127.0.0.1 - - [28/Aug/2019 14:32:33] \"\u001b[37mGET / HTTP/1.1\u001b[0m\" 200 -\n",
      "127.0.0.1 - - [28/Aug/2019 14:32:33] \"\u001b[37mGET /_dash-component-suites/dash_renderer/react@16.8.6.min.js?v=1.0.0&m=1561062262 HTTP/1.1\u001b[0m\" 200 -\n",
      "127.0.0.1 - - [28/Aug/2019 14:32:33] \"\u001b[37mGET /_dash-component-suites/dash_renderer/prop-types@15.7.2.min.js?v=1.0.0&m=1561062262 HTTP/1.1\u001b[0m\" 200 -\n",
      "127.0.0.1 - - [28/Aug/2019 14:32:33] \"\u001b[37mGET /_dash-component-suites/dash_renderer/react-dom@16.8.6.min.js?v=1.0.0&m=1561062262 HTTP/1.1\u001b[0m\" 200 -\n",
      "127.0.0.1 - - [28/Aug/2019 14:32:33] \"\u001b[37mGET /_dash-component-suites/dash_html_components/dash_html_components.min.js?v=1.0.0&m=1561063963 HTTP/1.1\u001b[0m\" 200 -\n",
      "127.0.0.1 - - [28/Aug/2019 14:32:33] \"\u001b[37mGET /_dash-component-suites/dash_core_components/highlight.pack.js?v=1.0.0&m=1563307603 HTTP/1.1\u001b[0m\" 200 -\n",
      "127.0.0.1 - - [28/Aug/2019 14:32:33] \"\u001b[37mGET /_dash-component-suites/dash_renderer/dash_renderer.min.js?v=1.0.0&m=1561062262 HTTP/1.1\u001b[0m\" 200 -\n",
      "127.0.0.1 - - [28/Aug/2019 14:32:33] \"\u001b[37mGET /_dash-component-suites/dash_core_components/dash_core_components.min.js?v=1.0.0&m=1563307603 HTTP/1.1\u001b[0m\" 200 -\n",
      "127.0.0.1 - - [28/Aug/2019 14:32:34] \"\u001b[37mGET /_dash-component-suites/dash_core_components/plotly-1.48.3.min.js?v=1.0.0&m=1563307603 HTTP/1.1\u001b[0m\" 200 -\n",
      "127.0.0.1 - - [28/Aug/2019 14:32:34] \"\u001b[37mGET /_dash-layout HTTP/1.1\u001b[0m\" 200 -\n",
      "127.0.0.1 - - [28/Aug/2019 14:32:34] \"\u001b[37mGET /_dash-dependencies HTTP/1.1\u001b[0m\" 200 -\n",
      "127.0.0.1 - - [28/Aug/2019 14:32:34] \"\u001b[37mPOST /_dash-update-component HTTP/1.1\u001b[0m\" 200 -\n",
      "127.0.0.1 - - [28/Aug/2019 14:32:34] \"\u001b[37mPOST /_dash-update-component HTTP/1.1\u001b[0m\" 200 -\n"
     ]
    }
   ],
   "source": [
    "app= dash.Dash()\n",
    "\n",
    "app.layout = html.Div([dcc.Dropdown(id='metric-dropdown',\n",
    "                            options=[{'label':'Average Maximum Temp','value':'TMAX'},\n",
    "                                    {'label':'Average Minimum Temp','value':'TMIN'},\n",
    "                                    {'label':'Number of days above 90','value':'t90'}],\n",
    "                            value='TMAX'),\n",
    "                       dcc.Graph(id='graph'),\n",
    "                       html.Div(id='ttest')\n",
    "                        ])\n",
    "\n",
    "@app.callback(Output('graph','figure'),\n",
    "             [Input('metric-dropdown','value')])\n",
    "\n",
    "\n",
    "def update_figure(metric):\n",
    "    data = [go.Scatter(x=df.index, y=df[column], mode='lines', name=label_dict[column]) \n",
    "            for column in [metric,f'{metric}_rolling']]\n",
    "    layout = go.Layout(title = f'{metric} and 10 year rolling average')\n",
    "    return {'data':data,'layout':layout}\n",
    "\n",
    "@app.callback(Output('ttest','children'),\n",
    "             [Input('metric-dropdown','value')])\n",
    "def perform_ttest(metric):\n",
    "    return(ttest(df,metric))\n",
    "\n",
    "\n",
    "\n",
    "app.run_server()\n"
   ]
  },
  {
   "cell_type": "markdown",
   "metadata": {},
   "source": [
    "Simple results are pretty good:\n",
    "\n",
    "![dash_with_ttest](https://github.com/max-miller/big_deal/blob/master/visualizations/dash_with_ttest.png?raw=true)\n",
    "\n",
    "Next took a bunch of trial/error to get the styling to align the text and the graphs the way I wanted and to move the legend to the bottom and properly align it."
   ]
  },
  {
   "cell_type": "code",
   "execution_count": 12,
   "metadata": {},
   "outputs": [
    {
     "name": "stdout",
     "output_type": "stream",
     "text": [
      " * Serving Flask app \"__main__\" (lazy loading)\n",
      " * Environment: production\n",
      "   WARNING: Do not use the development server in a production environment.\n",
      "   Use a production WSGI server instead.\n",
      " * Debug mode: off\n"
     ]
    },
    {
     "name": "stderr",
     "output_type": "stream",
     "text": [
      " * Running on http://127.0.0.1:8050/ (Press CTRL+C to quit)\n",
      "127.0.0.1 - - [28/Aug/2019 14:35:41] \"\u001b[37mGET / HTTP/1.1\u001b[0m\" 200 -\n",
      "127.0.0.1 - - [28/Aug/2019 14:35:41] \"\u001b[37mGET /_dash-component-suites/dash_renderer/prop-types@15.7.2.min.js?v=1.0.0&m=1561062262 HTTP/1.1\u001b[0m\" 200 -\n",
      "127.0.0.1 - - [28/Aug/2019 14:35:41] \"\u001b[37mGET /_dash-component-suites/dash_renderer/react@16.8.6.min.js?v=1.0.0&m=1561062262 HTTP/1.1\u001b[0m\" 200 -\n",
      "127.0.0.1 - - [28/Aug/2019 14:35:41] \"\u001b[37mGET /_dash-component-suites/dash_renderer/react-dom@16.8.6.min.js?v=1.0.0&m=1561062262 HTTP/1.1\u001b[0m\" 200 -\n",
      "127.0.0.1 - - [28/Aug/2019 14:35:41] \"\u001b[37mGET /_dash-component-suites/dash_html_components/dash_html_components.min.js?v=1.0.0&m=1561063963 HTTP/1.1\u001b[0m\" 200 -\n",
      "127.0.0.1 - - [28/Aug/2019 14:35:41] \"\u001b[37mGET /_dash-component-suites/dash_core_components/highlight.pack.js?v=1.0.0&m=1563307603 HTTP/1.1\u001b[0m\" 200 -\n",
      "127.0.0.1 - - [28/Aug/2019 14:35:41] \"\u001b[37mGET /_dash-component-suites/dash_renderer/dash_renderer.min.js?v=1.0.0&m=1561062262 HTTP/1.1\u001b[0m\" 200 -\n",
      "127.0.0.1 - - [28/Aug/2019 14:35:41] \"\u001b[37mGET /_dash-component-suites/dash_core_components/dash_core_components.min.js?v=1.0.0&m=1563307603 HTTP/1.1\u001b[0m\" 200 -\n",
      "127.0.0.1 - - [28/Aug/2019 14:35:41] \"\u001b[37mGET /_dash-component-suites/dash_core_components/plotly-1.48.3.min.js?v=1.0.0&m=1563307603 HTTP/1.1\u001b[0m\" 200 -\n",
      "127.0.0.1 - - [28/Aug/2019 14:35:42] \"\u001b[37mGET /_dash-layout HTTP/1.1\u001b[0m\" 200 -\n",
      "127.0.0.1 - - [28/Aug/2019 14:35:42] \"\u001b[37mGET /_dash-dependencies HTTP/1.1\u001b[0m\" 200 -\n",
      "127.0.0.1 - - [28/Aug/2019 14:35:42] \"\u001b[37mPOST /_dash-update-component HTTP/1.1\u001b[0m\" 200 -\n",
      "127.0.0.1 - - [28/Aug/2019 14:35:42] \"\u001b[37mPOST /_dash-update-component HTTP/1.1\u001b[0m\" 200 -\n"
     ]
    }
   ],
   "source": [
    "app= dash.Dash()\n",
    "\n",
    "app.layout = html.Div([dcc.Dropdown(id='metric-dropdown',\n",
    "                            options=[{'label':'Average Maximum Temp','value':'TMAX'},\n",
    "                                    {'label':'Average Minimum Temp','value':'TMIN'},\n",
    "                                    {'label':'Number of days above 90','value':'t90'}],\n",
    "                            value='TMAX'),\n",
    "                       html.Div([html.Div(dcc.Graph(id='graph'),style={'width':'75%','display':'inline-block',\n",
    "                                                                      'vertical-align': 'middle'}),\n",
    "                                html.Div(id='ttest',style={'width':'25%','display':'inline-block',\n",
    "                                                          'vertical-align': 'middle',\n",
    "                                                          'fontSize':20})])\n",
    "                        ])\n",
    "\n",
    "@app.callback(Output('graph','figure'),\n",
    "             [Input('metric-dropdown','value')])\n",
    "\n",
    "\n",
    "def update_figure(metric):\n",
    "    data = [go.Scatter(x=df.index, y=df[column], mode='lines', name=label_dict[column]) \n",
    "            for column in [metric,f'{metric}_rolling']]\n",
    "    layout = go.Layout(title = f'{metric} and 10 year rolling average',\n",
    "                       legend=go.layout.Legend(xanchor='center', x=0.5, orientation='h'))\n",
    "    return {'data':data,'layout':layout}\n",
    "\n",
    "@app.callback(Output('ttest','children'),\n",
    "             [Input('metric-dropdown','value')])\n",
    "def perform_ttest(metric):\n",
    "    return(ttest(df,metric))\n",
    "\n",
    "app.run_server()"
   ]
  },
  {
   "cell_type": "markdown",
   "metadata": {},
   "source": [
    "![aligned_ttest](https://github.com/max-miller/big_deal/blob/master/visualizations/dash_aligned_ttest.png?raw=true)"
   ]
  },
  {
   "cell_type": "code",
   "execution_count": null,
   "metadata": {},
   "outputs": [],
   "source": []
  },
  {
   "cell_type": "code",
   "execution_count": null,
   "metadata": {},
   "outputs": [],
   "source": []
  },
  {
   "cell_type": "code",
   "execution_count": null,
   "metadata": {},
   "outputs": [],
   "source": []
  },
  {
   "cell_type": "code",
   "execution_count": null,
   "metadata": {},
   "outputs": [],
   "source": []
  }
 ],
 "metadata": {
  "kernelspec": {
   "display_name": "Python 3",
   "language": "python",
   "name": "python3"
  },
  "language_info": {
   "codemirror_mode": {
    "name": "ipython",
    "version": 3
   },
   "file_extension": ".py",
   "mimetype": "text/x-python",
   "name": "python",
   "nbconvert_exporter": "python",
   "pygments_lexer": "ipython3",
   "version": "3.7.1"
  }
 },
 "nbformat": 4,
 "nbformat_minor": 2
}
